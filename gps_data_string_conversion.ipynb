{
 "cells": [
  {
   "cell_type": "code",
   "execution_count": 1,
   "id": "a09960dc",
   "metadata": {},
   "outputs": [],
   "source": [
    "#This code demonstartes converting \n",
    "#latitude and longitude values from degrees, minutes, seconds, and direction format (GPS data)\n",
    "#to decimal degrees.\n",
    "#Import the necessary modules\n",
    "import re # Searches for a pattern within a string\n",
    "import pandas as pd\n",
    "import geopandas as gpd"
   ]
  },
  {
   "cell_type": "code",
   "execution_count": 2,
   "id": "3a3e81a7",
   "metadata": {},
   "outputs": [],
   "source": [
    "#Display all rows of a dataframe\n",
    "pd.set_option(\"display.max_rows\", None)\n",
    "#Read the dataframe\n",
    "df = pd.read_csv('lat.csv', sep = ',')"
   ]
  },
  {
   "cell_type": "code",
   "execution_count": 3,
   "id": "611d354e",
   "metadata": {},
   "outputs": [
    {
     "data": {
      "text/html": [
       "<div>\n",
       "<style scoped>\n",
       "    .dataframe tbody tr th:only-of-type {\n",
       "        vertical-align: middle;\n",
       "    }\n",
       "\n",
       "    .dataframe tbody tr th {\n",
       "        vertical-align: top;\n",
       "    }\n",
       "\n",
       "    .dataframe thead th {\n",
       "        text-align: right;\n",
       "    }\n",
       "</style>\n",
       "<table border=\"1\" class=\"dataframe\">\n",
       "  <thead>\n",
       "    <tr style=\"text-align: right;\">\n",
       "      <th></th>\n",
       "      <th>City</th>\n",
       "      <th>Latitude</th>\n",
       "      <th>Longitude</th>\n",
       "    </tr>\n",
       "  </thead>\n",
       "  <tbody>\n",
       "    <tr>\n",
       "      <th>0</th>\n",
       "      <td>Paris</td>\n",
       "      <td>48°51'26.37\"N</td>\n",
       "      <td>2°20'51.773\"E</td>\n",
       "    </tr>\n",
       "    <tr>\n",
       "      <th>1</th>\n",
       "      <td>Freiburg</td>\n",
       "      <td>47°59'37.27\"N</td>\n",
       "      <td>7°50'38.32\"E</td>\n",
       "    </tr>\n",
       "    <tr>\n",
       "      <th>2</th>\n",
       "      <td>Frankfurt</td>\n",
       "      <td>50°5'18.696\"N</td>\n",
       "      <td>8°39'45.87\"E</td>\n",
       "    </tr>\n",
       "    <tr>\n",
       "      <th>3</th>\n",
       "      <td>Berlin</td>\n",
       "      <td>52°31'0.494\"N</td>\n",
       "      <td>13°23'43.50\"E</td>\n",
       "    </tr>\n",
       "  </tbody>\n",
       "</table>\n",
       "</div>"
      ],
      "text/plain": [
       "        City       Latitude      Longitude\n",
       "0      Paris  48°51'26.37\"N  2°20'51.773\"E\n",
       "1   Freiburg  47°59'37.27\"N   7°50'38.32\"E\n",
       "2  Frankfurt  50°5'18.696\"N   8°39'45.87\"E\n",
       "3     Berlin  52°31'0.494\"N  13°23'43.50\"E"
      ]
     },
     "execution_count": 3,
     "metadata": {},
     "output_type": "execute_result"
    }
   ],
   "source": [
    "df.head()"
   ]
  },
  {
   "cell_type": "code",
   "execution_count": 4,
   "id": "839a9214",
   "metadata": {},
   "outputs": [],
   "source": [
    "#Conversion into string data type\n",
    "lat = df['Latitude'].astype(str)\n",
    "lng = df['Longitude'].astype(str)"
   ]
  },
  {
   "cell_type": "code",
   "execution_count": 5,
   "id": "17a01fdf",
   "metadata": {},
   "outputs": [],
   "source": [
    "#While loop\n",
    "#Create two empty lists to append the decimels degrees values\n",
    "lat_deci = [] #Empty list to store decimal degrees for latitude\n",
    "lng_deci = [] #Empty list to store decimal degrees for longitude\n",
    "\n",
    "# Initialize counters\n",
    "i = 0 \n",
    "j = 0\n",
    "\n",
    "while i < len(lat) and j < len(lng):\n",
    "    #Latitudes\n",
    "    #Split the latitude column into deg, min, second, direction\n",
    "    deg, min, second, direction = re.split('[°\\'\"]+', lat[i])\n",
    "    # conversion formula\n",
    "    decimels_lat = (float(deg) + float(min)/60 + float(second)/(60*60)) * (-1 if direction in ['W', 'S'] else 1) #Convert to decimal degrees\n",
    "    i += 1\n",
    "    \n",
    "    #Longitudes\n",
    "    #Split the longitudes column into deg, min, second, direction\n",
    "    deg1, min1, second1, direction1 = re.split('[°\\'\"]+', lng[j])\n",
    "    # conversion Formula\n",
    "    decimels_lng = (float(deg1) + float(min1)/60 + float(second1)/(60*60)) * (-1 if direction1 in ['W', 'S'] else 1)\n",
    "    j += 1\n",
    "    \n",
    "    #Create two single-row dataframes\n",
    "    #Append them to the Empty list\n",
    "    lats = pd.DataFrame({'Lat_decimals':[decimels_lat]})\n",
    "    lat_deci.append(lats)\n",
    "    lngs = pd.DataFrame({'Long_decimals':[decimels_lng]})\n",
    "    lng_deci.append(lngs)\n",
    "    \n",
    "    single_lat = pd.concat(lat_deci, ignore_index=True).reset_index(drop=True)\n",
    "    single_lng = pd.concat(lng_deci, ignore_index=True).reset_index(drop=True)\n",
    "    \n",
    "    frames = [df, single_lat, single_lng]\n",
    "    \n",
    "    #Combine dataframes objects horizontally along the x axis by passing in axis = 1\n",
    "    result = pd.concat(frames, axis = 1).reset_index(drop=True)\n",
    "    \n",
    "    #Convert pandasdataframe into Geodataframe\n",
    "    gdf = gpd.GeoDataFrame(result, \n",
    "                           geometry=gpd.points_from_xy(result.Long_decimals, result.Lat_decimals))#,\n",
    "                           #crs = epsg=4839)"
   ]
  },
  {
   "cell_type": "code",
   "execution_count": 6,
   "id": "7d1b5eb1",
   "metadata": {},
   "outputs": [
    {
     "data": {
      "text/html": [
       "<div>\n",
       "<style scoped>\n",
       "    .dataframe tbody tr th:only-of-type {\n",
       "        vertical-align: middle;\n",
       "    }\n",
       "\n",
       "    .dataframe tbody tr th {\n",
       "        vertical-align: top;\n",
       "    }\n",
       "\n",
       "    .dataframe thead th {\n",
       "        text-align: right;\n",
       "    }\n",
       "</style>\n",
       "<table border=\"1\" class=\"dataframe\">\n",
       "  <thead>\n",
       "    <tr style=\"text-align: right;\">\n",
       "      <th></th>\n",
       "      <th>City</th>\n",
       "      <th>Latitude</th>\n",
       "      <th>Longitude</th>\n",
       "      <th>Lat_decimals</th>\n",
       "      <th>Long_decimals</th>\n",
       "      <th>geometry</th>\n",
       "    </tr>\n",
       "  </thead>\n",
       "  <tbody>\n",
       "    <tr>\n",
       "      <th>0</th>\n",
       "      <td>Paris</td>\n",
       "      <td>48°51'26.37\"N</td>\n",
       "      <td>2°20'51.773\"E</td>\n",
       "      <td>48.857325</td>\n",
       "      <td>2.347715</td>\n",
       "      <td>POINT (2.34771 48.85733)</td>\n",
       "    </tr>\n",
       "    <tr>\n",
       "      <th>1</th>\n",
       "      <td>Freiburg</td>\n",
       "      <td>47°59'37.27\"N</td>\n",
       "      <td>7°50'38.32\"E</td>\n",
       "      <td>47.993686</td>\n",
       "      <td>7.843978</td>\n",
       "      <td>POINT (7.84398 47.99369)</td>\n",
       "    </tr>\n",
       "    <tr>\n",
       "      <th>2</th>\n",
       "      <td>Frankfurt</td>\n",
       "      <td>50°5'18.696\"N</td>\n",
       "      <td>8°39'45.87\"E</td>\n",
       "      <td>50.088527</td>\n",
       "      <td>8.662742</td>\n",
       "      <td>POINT (8.66274 50.08853)</td>\n",
       "    </tr>\n",
       "    <tr>\n",
       "      <th>3</th>\n",
       "      <td>Berlin</td>\n",
       "      <td>52°31'0.494\"N</td>\n",
       "      <td>13°23'43.50\"E</td>\n",
       "      <td>52.516804</td>\n",
       "      <td>13.395417</td>\n",
       "      <td>POINT (13.39542 52.51680)</td>\n",
       "    </tr>\n",
       "  </tbody>\n",
       "</table>\n",
       "</div>"
      ],
      "text/plain": [
       "        City       Latitude      Longitude  Lat_decimals  Long_decimals  \\\n",
       "0      Paris  48°51'26.37\"N  2°20'51.773\"E     48.857325       2.347715   \n",
       "1   Freiburg  47°59'37.27\"N   7°50'38.32\"E     47.993686       7.843978   \n",
       "2  Frankfurt  50°5'18.696\"N   8°39'45.87\"E     50.088527       8.662742   \n",
       "3     Berlin  52°31'0.494\"N  13°23'43.50\"E     52.516804      13.395417   \n",
       "\n",
       "                    geometry  \n",
       "0   POINT (2.34771 48.85733)  \n",
       "1   POINT (7.84398 47.99369)  \n",
       "2   POINT (8.66274 50.08853)  \n",
       "3  POINT (13.39542 52.51680)  "
      ]
     },
     "execution_count": 6,
     "metadata": {},
     "output_type": "execute_result"
    }
   ],
   "source": [
    "gdf.head()"
   ]
  },
  {
   "cell_type": "code",
   "execution_count": null,
   "id": "b5307ee6",
   "metadata": {},
   "outputs": [],
   "source": [
    "#the coordinates are in espg 4326, they can be easily converted to another coordinate system through geopandas\n",
    "# or any GIS software"
   ]
  }
 ],
 "metadata": {
  "kernelspec": {
   "display_name": "Python 3 (ipykernel)",
   "language": "python",
   "name": "python3"
  },
  "language_info": {
   "codemirror_mode": {
    "name": "ipython",
    "version": 3
   },
   "file_extension": ".py",
   "mimetype": "text/x-python",
   "name": "python",
   "nbconvert_exporter": "python",
   "pygments_lexer": "ipython3",
   "version": "3.10.2"
  }
 },
 "nbformat": 4,
 "nbformat_minor": 5
}
